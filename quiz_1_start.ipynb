{
 "cells": [
  {
   "cell_type": "code",
   "execution_count": 82,
   "metadata": {},
   "outputs": [],
   "source": [
    "import thinkplot\n",
    "import thinkstats2\n",
    "import pandas as pd\n",
    "import numpy as np\n",
    "import seaborn as sns"
   ]
  },
  {
   "cell_type": "code",
   "execution_count": 83,
   "metadata": {},
   "outputs": [],
   "source": [
    "import thinkplot\n",
    "import thinkstats2\n",
    "import pandas as pd\n",
    "import numpy as np\n",
    "import seaborn as sns"
   ]
  },
  {
   "cell_type": "markdown",
   "metadata": {},
   "source": [
    "## Quiz 1\n",
    "\n",
    "Use this file as a starting point for your work. You are free to add/import any other libaries that you may want, though you shouldn't need much more, if anything. \n",
    "\n",
    "There are multiple approaches to solve each of the challenges. It is probably easiest to create a function that calculates a generic version of a solution, then takes in arguments for which data to use. There is an example of one of the functions I used to make a solution below. \n",
    "\n",
    "Please push you finished work into a repository on your github and paste the link in the final question. The responses on Moodle are what is graded, but your code will be glanced at to ensure you actually did the work and didn't do the calculations somewhere else. "
   ]
  },
  {
   "cell_type": "markdown",
   "metadata": {},
   "source": [
    "### Example Function"
   ]
  },
  {
   "cell_type": "code",
   "execution_count": 84,
   "metadata": {},
   "outputs": [],
   "source": [
    "# Here is the framework of my function for the first set of challenges\n",
    "\n",
    "#def rangeMag(df_in, columnName):\n",
    "# ...SOME CODE THAT CALCULATES STUFF...\n",
    "#    return retVal\n",
    "\n",
    "# When calling the function to use the code, it would look like this...\n",
    "\n",
    "# Nodeg\n",
    "#print(rangeMag(df, \"Nodeg\"))\n",
    "# Earnings_1974\n",
    "#print(rangeMag(df, \"Earnings_1974\"))\n",
    "# Earnings_1975\n",
    "#print(rangeMag(df, \"Earnings_1975\"))\n",
    "# Earnings_1978\n",
    "#print(rangeMag(df, \"Earnings_1978\"))\n"
   ]
  },
  {
   "cell_type": "markdown",
   "metadata": {},
   "source": [
    "### Load Some Data"
   ]
  },
  {
   "cell_type": "code",
   "execution_count": 85,
   "metadata": {},
   "outputs": [
    {
     "data": {
      "text/html": [
       "<div>\n",
       "<style scoped>\n",
       "    .dataframe tbody tr th:only-of-type {\n",
       "        vertical-align: middle;\n",
       "    }\n",
       "\n",
       "    .dataframe tbody tr th {\n",
       "        vertical-align: top;\n",
       "    }\n",
       "\n",
       "    .dataframe thead th {\n",
       "        text-align: right;\n",
       "    }\n",
       "</style>\n",
       "<table border=\"1\" class=\"dataframe\">\n",
       "  <thead>\n",
       "    <tr style=\"text-align: right;\">\n",
       "      <th></th>\n",
       "      <th>Age</th>\n",
       "      <th>Eduacation</th>\n",
       "      <th>Race</th>\n",
       "      <th>Hisp</th>\n",
       "      <th>MaritalStatus</th>\n",
       "      <th>Nodeg</th>\n",
       "      <th>Earnings_1974</th>\n",
       "      <th>Earnings_1975</th>\n",
       "      <th>Earnings_1978</th>\n",
       "    </tr>\n",
       "  </thead>\n",
       "  <tbody>\n",
       "    <tr>\n",
       "      <th>0</th>\n",
       "      <td>45</td>\n",
       "      <td>LessThanHighSchool</td>\n",
       "      <td>NotBlack</td>\n",
       "      <td>NotHispanic</td>\n",
       "      <td>Married</td>\n",
       "      <td>1</td>\n",
       "      <td>21516.670</td>\n",
       "      <td>25243.550</td>\n",
       "      <td>25564.670</td>\n",
       "    </tr>\n",
       "    <tr>\n",
       "      <th>1</th>\n",
       "      <td>21</td>\n",
       "      <td>Intermediate</td>\n",
       "      <td>NotBlack</td>\n",
       "      <td>NotHispanic</td>\n",
       "      <td>NotMarried</td>\n",
       "      <td>0</td>\n",
       "      <td>3175.971</td>\n",
       "      <td>5852.565</td>\n",
       "      <td>13496.080</td>\n",
       "    </tr>\n",
       "    <tr>\n",
       "      <th>2</th>\n",
       "      <td>38</td>\n",
       "      <td>HighSchool</td>\n",
       "      <td>NotBlack</td>\n",
       "      <td>NotHispanic</td>\n",
       "      <td>Married</td>\n",
       "      <td>0</td>\n",
       "      <td>23039.020</td>\n",
       "      <td>25130.760</td>\n",
       "      <td>25564.670</td>\n",
       "    </tr>\n",
       "    <tr>\n",
       "      <th>3</th>\n",
       "      <td>48</td>\n",
       "      <td>LessThanHighSchool</td>\n",
       "      <td>NotBlack</td>\n",
       "      <td>NotHispanic</td>\n",
       "      <td>Married</td>\n",
       "      <td>1</td>\n",
       "      <td>24994.370</td>\n",
       "      <td>25243.550</td>\n",
       "      <td>25564.670</td>\n",
       "    </tr>\n",
       "    <tr>\n",
       "      <th>4</th>\n",
       "      <td>18</td>\n",
       "      <td>LessThanHighSchool</td>\n",
       "      <td>NotBlack</td>\n",
       "      <td>NotHispanic</td>\n",
       "      <td>Married</td>\n",
       "      <td>1</td>\n",
       "      <td>1669.295</td>\n",
       "      <td>10727.610</td>\n",
       "      <td>9860.869</td>\n",
       "    </tr>\n",
       "  </tbody>\n",
       "</table>\n",
       "</div>"
      ],
      "text/plain": [
       "   Age          Eduacation      Race         Hisp MaritalStatus  Nodeg  \\\n",
       "0   45  LessThanHighSchool  NotBlack  NotHispanic       Married      1   \n",
       "1   21        Intermediate  NotBlack  NotHispanic    NotMarried      0   \n",
       "2   38          HighSchool  NotBlack  NotHispanic       Married      0   \n",
       "3   48  LessThanHighSchool  NotBlack  NotHispanic       Married      1   \n",
       "4   18  LessThanHighSchool  NotBlack  NotHispanic       Married      1   \n",
       "\n",
       "   Earnings_1974  Earnings_1975  Earnings_1978  \n",
       "0      21516.670      25243.550      25564.670  \n",
       "1       3175.971       5852.565      13496.080  \n",
       "2      23039.020      25130.760      25564.670  \n",
       "3      24994.370      25243.550      25564.670  \n",
       "4       1669.295      10727.610       9860.869  "
      ]
     },
     "execution_count": 85,
     "metadata": {},
     "output_type": "execute_result"
    }
   ],
   "source": [
    "df = pd.read_csv(\"LabourTrainingEvaluationData.csv\")\n",
    "df.head()"
   ]
  },
  {
   "cell_type": "markdown",
   "metadata": {},
   "source": [
    "### Challenge 1 - Magnitude of Range"
   ]
  },
  {
   "cell_type": "code",
   "execution_count": 86,
   "metadata": {},
   "outputs": [
    {
     "name": "stdout",
     "output_type": "stream",
     "text": [
      "Nondeg Range:  0 1\n",
      "Magnitude of range for Nondeg ;  1\n",
      "Earning_1974 Range:  0.0 25862.32\n",
      "Magnitude of range for Earning in 1974 ;  25862.32\n",
      "Earning_1975 Range:  0.0 25243.55\n",
      "Magnitude of range for Earning in 1975 ;  25243.55\n",
      "Earning_1978 Range:  0.0 25564.67\n",
      "Magnitude of range for Earning in 1978 ;  25564.67\n"
     ]
    }
   ],
   "source": [
    "# Magnitude of Range for Nondeg\n",
    "dfnd=df[\"Nodeg\"]\n",
    "print(\"Nondeg Range: \", str(np.min(dfnd)), str(np.max(dfnd)) )\n",
    "ndm=np.min(dfnd)\n",
    "ndx=np.max(dfnd)\n",
    "ndd=ndx-ndm\n",
    "print(\"Magnitude of range for Nondeg ; \",ndd )\n",
    "\n",
    "# Magnitude of Range for Earnings_1974\n",
    "\n",
    "df74=df[ \"Earnings_1974\"]\n",
    "print(\"Earning_1974 Range: \", str(np.min(df74)), str(np.max(df74)) )\n",
    "e74m=np.min(df74)\n",
    "e74x=np.max(df74)\n",
    "e74d=e74x-e74m\n",
    "print(\"Magnitude of range for Earning in 1974 ; \",e74d )\n",
    "\n",
    "\n",
    "# Magnitude of Range for Earnings_1975\n",
    "\n",
    "df75=df[ \"Earnings_1975\"]\n",
    "print(\"Earning_1975 Range: \", str(np.min(df75)), str(np.max(df75)) )\n",
    "e75m=np.min(df75)\n",
    "e75x=np.max(df75)\n",
    "e75d=e75x-e75m\n",
    "print(\"Magnitude of range for Earning in 1975 ; \",e75d )\n",
    "\n",
    "# Magnitude of Range for Earnings_1978\n",
    "\n",
    "df78=df[ \"Earnings_1978\"]\n",
    "print(\"Earning_1978 Range: \", str(np.min(df78)), str(np.max(df78)) )\n",
    "e78m=np.min(df78)\n",
    "e78x=np.max(df78)\n",
    "e78d=e78x-e78m\n",
    "print(\"Magnitude of range for Earning in 1978 ; \",e78d )\n",
    "\n",
    "\n"
   ]
  },
  {
   "cell_type": "markdown",
   "metadata": {},
   "source": [
    "### Challenge 2 - Percent of Values Above a Value"
   ]
  },
  {
   "cell_type": "code",
   "execution_count": 87,
   "metadata": {},
   "outputs": [
    {
     "name": "stdout",
     "output_type": "stream",
     "text": [
      "15992\n"
     ]
    }
   ],
   "source": [
    "df78=df[\"Earnings_1978\"]\n",
    "c=df78.shape[0]\n",
    "print(c)"
   ]
  },
  {
   "cell_type": "code",
   "execution_count": 88,
   "metadata": {},
   "outputs": [
    {
     "name": "stdout",
     "output_type": "stream",
     "text": [
      "Number of people earning below 13496.080  :  6686\n",
      "Number of people earning above 13496.080 :  9307\n",
      "Percentge of people earning more than 13490.080 is   :  58.2 %\n"
     ]
    }
   ],
   "source": [
    "# Percentage of earning more than 13496.080  \n",
    "df78n=df[df[\"Earnings_1978\"]<=13496.080]\n",
    "a=df78n.shape[0]\n",
    "print(\"Number of people earning below 13496.080  : \", a)\n",
    "df78m=df[df[\"Earnings_1978\"]>=13496.080]\n",
    "b=df78m.shape[0]\n",
    "print(\"Number of people earning above 13496.080 : \",  b)\n",
    "d=b/c\n",
    "print(\"Percentge of people earning more than 13490.080 is   : \", (round(d*100,2)),\"%\")\n"
   ]
  },
  {
   "cell_type": "code",
   "execution_count": 89,
   "metadata": {},
   "outputs": [
    {
     "data": {
      "text/html": [
       "<div>\n",
       "<style scoped>\n",
       "    .dataframe tbody tr th:only-of-type {\n",
       "        vertical-align: middle;\n",
       "    }\n",
       "\n",
       "    .dataframe tbody tr th {\n",
       "        vertical-align: top;\n",
       "    }\n",
       "\n",
       "    .dataframe thead th {\n",
       "        text-align: right;\n",
       "    }\n",
       "</style>\n",
       "<table border=\"1\" class=\"dataframe\">\n",
       "  <thead>\n",
       "    <tr style=\"text-align: right;\">\n",
       "      <th></th>\n",
       "      <th>Age</th>\n",
       "      <th>Nodeg</th>\n",
       "      <th>Earnings_1974</th>\n",
       "      <th>Earnings_1975</th>\n",
       "      <th>Earnings_1978</th>\n",
       "    </tr>\n",
       "  </thead>\n",
       "  <tbody>\n",
       "    <tr>\n",
       "      <th>count</th>\n",
       "      <td>15992.000000</td>\n",
       "      <td>15992.000000</td>\n",
       "      <td>15992.000000</td>\n",
       "      <td>15992.000000</td>\n",
       "      <td>15992.000000</td>\n",
       "    </tr>\n",
       "    <tr>\n",
       "      <th>mean</th>\n",
       "      <td>33.225238</td>\n",
       "      <td>0.295835</td>\n",
       "      <td>14016.800304</td>\n",
       "      <td>13650.803376</td>\n",
       "      <td>14846.659673</td>\n",
       "    </tr>\n",
       "    <tr>\n",
       "      <th>std</th>\n",
       "      <td>11.045216</td>\n",
       "      <td>0.456432</td>\n",
       "      <td>9569.795893</td>\n",
       "      <td>9270.403225</td>\n",
       "      <td>9647.391524</td>\n",
       "    </tr>\n",
       "    <tr>\n",
       "      <th>min</th>\n",
       "      <td>16.000000</td>\n",
       "      <td>0.000000</td>\n",
       "      <td>0.000000</td>\n",
       "      <td>0.000000</td>\n",
       "      <td>0.000000</td>\n",
       "    </tr>\n",
       "    <tr>\n",
       "      <th>25%</th>\n",
       "      <td>24.000000</td>\n",
       "      <td>0.000000</td>\n",
       "      <td>4403.452250</td>\n",
       "      <td>4398.823000</td>\n",
       "      <td>5669.298000</td>\n",
       "    </tr>\n",
       "    <tr>\n",
       "      <th>50%</th>\n",
       "      <td>31.000000</td>\n",
       "      <td>0.000000</td>\n",
       "      <td>15123.580000</td>\n",
       "      <td>14557.110000</td>\n",
       "      <td>16421.975000</td>\n",
       "    </tr>\n",
       "    <tr>\n",
       "      <th>75%</th>\n",
       "      <td>42.000000</td>\n",
       "      <td>1.000000</td>\n",
       "      <td>23584.180000</td>\n",
       "      <td>22923.737500</td>\n",
       "      <td>25564.670000</td>\n",
       "    </tr>\n",
       "    <tr>\n",
       "      <th>max</th>\n",
       "      <td>55.000000</td>\n",
       "      <td>1.000000</td>\n",
       "      <td>25862.320000</td>\n",
       "      <td>25243.550000</td>\n",
       "      <td>25564.670000</td>\n",
       "    </tr>\n",
       "  </tbody>\n",
       "</table>\n",
       "</div>"
      ],
      "text/plain": [
       "                Age         Nodeg  Earnings_1974  Earnings_1975  Earnings_1978\n",
       "count  15992.000000  15992.000000   15992.000000   15992.000000   15992.000000\n",
       "mean      33.225238      0.295835   14016.800304   13650.803376   14846.659673\n",
       "std       11.045216      0.456432    9569.795893    9270.403225    9647.391524\n",
       "min       16.000000      0.000000       0.000000       0.000000       0.000000\n",
       "25%       24.000000      0.000000    4403.452250    4398.823000    5669.298000\n",
       "50%       31.000000      0.000000   15123.580000   14557.110000   16421.975000\n",
       "75%       42.000000      1.000000   23584.180000   22923.737500   25564.670000\n",
       "max       55.000000      1.000000   25862.320000   25243.550000   25564.670000"
      ]
     },
     "execution_count": 89,
     "metadata": {},
     "output_type": "execute_result"
    }
   ],
   "source": [
    "df.describe()"
   ]
  },
  {
   "cell_type": "markdown",
   "metadata": {},
   "source": [
    "### Challenge 3 - Mean of Differences"
   ]
  },
  {
   "cell_type": "code",
   "execution_count": 100,
   "metadata": {},
   "outputs": [
    {
     "name": "stdout",
     "output_type": "stream",
     "text": [
      "Mean of the groupd data:  Nodeg                0.295835\n",
      "Earnings_1974    14016.800304\n",
      "Earnings_1975    13650.803376\n",
      "Earnings_1978    14846.659673\n",
      "dtype: float64\n",
      "Standard deviation of the grouped data : Nodeg               0.456432\n",
      "Earnings_1974    9569.795893\n",
      "Earnings_1975    9270.403225\n",
      "Earnings_1978    9647.391524\n",
      "dtype: float64\n",
      "<scipy.stats._distn_infrastructure.rv_frozen object at 0x000001E8A6A38D00>\n"
     ]
    }
   ],
   "source": [
    "#SMD = Difference in mean outcome between groups / Standard deviation of outcome among participants\n",
    "df3 = df[[\"Nodeg\", \"Earnings_1974\", \"Earnings_1975\",\"Earnings_1978\"]]\n",
    "print(\"Mean of the groupd data: \", df3.mean())\n",
    "print(\"Standard deviation of the grouped data :\" ,df3.std())\n",
    "import scipy.stats\n",
    "mu = df3.mean()\n",
    "sigma = df3.std()\n",
    "normz = scipy.stats.norm(mu, sigma)\n",
    "\n",
    "\n",
    "\n"
   ]
  },
  {
   "cell_type": "markdown",
   "metadata": {},
   "source": [
    "### Challenge 4 - Count of Values in Range"
   ]
  },
  {
   "cell_type": "code",
   "execution_count": 91,
   "metadata": {},
   "outputs": [
    {
     "data": {
      "text/plain": [
       "0    11261\n",
       "1     4731\n",
       "Name: Nodeg, dtype: int64"
      ]
     },
     "execution_count": 91,
     "metadata": {},
     "output_type": "execute_result"
    }
   ],
   "source": [
    "#count of values in range(0,1) of Earings in 1974\n",
    "dfnd.value_counts()"
   ]
  },
  {
   "cell_type": "code",
   "execution_count": 92,
   "metadata": {},
   "outputs": [
    {
     "data": {
      "text/plain": [
       "25862.3200    3052\n",
       "0.0000        1913\n",
       "25860.3600      24\n",
       "3136.7860       17\n",
       "20376.3700      12\n",
       "              ... \n",
       "19859.1300       1\n",
       "687.7026         1\n",
       "6197.1610        1\n",
       "2306.0570        1\n",
       "1733.9510        1\n",
       "Name: Earnings_1974, Length: 7333, dtype: int64"
      ]
     },
     "execution_count": 92,
     "metadata": {},
     "output_type": "execute_result"
    }
   ],
   "source": [
    "#count of values in range (0, 25862.32) of Earings in 1974\n",
    "df74.value_counts( )\n"
   ]
  },
  {
   "cell_type": "code",
   "execution_count": 93,
   "metadata": {},
   "outputs": [
    {
     "data": {
      "text/plain": [
       "25243.550    3007\n",
       "0.000        1748\n",
       "25241.760      26\n",
       "2866.306       20\n",
       "13964.520       9\n",
       "             ... \n",
       "8896.113        1\n",
       "23279.560       1\n",
       "2359.645        1\n",
       "16504.980       1\n",
       "13144.550       1\n",
       "Name: Earnings_1975, Length: 7615, dtype: int64"
      ]
     },
     "execution_count": 93,
     "metadata": {},
     "output_type": "execute_result"
    }
   ],
   "source": [
    "#count of values in range(0, 25243.55) of Earings in 1975\n",
    "df75.value_counts()"
   ]
  },
  {
   "cell_type": "code",
   "execution_count": 94,
   "metadata": {},
   "outputs": [
    {
     "data": {
      "text/plain": [
       "25564.670    4145\n",
       "0.000        2172\n",
       "2365.840       25\n",
       "23052.530      10\n",
       "11526.270       8\n",
       "             ... \n",
       "19900.540       1\n",
       "16268.290       1\n",
       "8188.083        1\n",
       "22412.680       1\n",
       "13671.930       1\n",
       "Name: Earnings_1978, Length: 7243, dtype: int64"
      ]
     },
     "execution_count": 94,
     "metadata": {},
     "output_type": "execute_result"
    }
   ],
   "source": [
    "#count of values in range (0, 25564.67) of Earings in 1978\n",
    "df78.value_counts()"
   ]
  },
  {
   "cell_type": "markdown",
   "metadata": {},
   "source": [
    "### Challenge 5 - Basic Stats Calculations"
   ]
  },
  {
   "cell_type": "code",
   "execution_count": 95,
   "metadata": {},
   "outputs": [
    {
     "data": {
      "text/plain": [
       "count    15992.000000\n",
       "mean     14846.659673\n",
       "std       9647.391524\n",
       "min          0.000000\n",
       "25%       5669.298000\n",
       "50%      16421.975000\n",
       "75%      25564.670000\n",
       "max      25564.670000\n",
       "Name: Earnings_1978, dtype: float64"
      ]
     },
     "execution_count": 95,
     "metadata": {},
     "output_type": "execute_result"
    }
   ],
   "source": [
    "#basic stats for Earnings_1978\n",
    "df78.describe()"
   ]
  },
  {
   "cell_type": "code",
   "execution_count": 96,
   "metadata": {},
   "outputs": [
    {
     "data": {
      "text/plain": [
       "count    15992.000000\n",
       "mean         0.295835\n",
       "std          0.456432\n",
       "min          0.000000\n",
       "25%          0.000000\n",
       "50%          0.000000\n",
       "75%          1.000000\n",
       "max          1.000000\n",
       "Name: Nodeg, dtype: float64"
      ]
     },
     "execution_count": 96,
     "metadata": {},
     "output_type": "execute_result"
    }
   ],
   "source": [
    "##basic stats for noDeg\n",
    "dfnd.describe()"
   ]
  },
  {
   "cell_type": "code",
   "execution_count": 97,
   "metadata": {},
   "outputs": [
    {
     "data": {
      "text/plain": [
       "count    15992.000000\n",
       "mean     14016.800304\n",
       "std       9569.795893\n",
       "min          0.000000\n",
       "25%       4403.452250\n",
       "50%      15123.580000\n",
       "75%      23584.180000\n",
       "max      25862.320000\n",
       "Name: Earnings_1974, dtype: float64"
      ]
     },
     "execution_count": 97,
     "metadata": {},
     "output_type": "execute_result"
    }
   ],
   "source": [
    "#basic stats for Earnings_1974\n",
    "df74.describe()"
   ]
  },
  {
   "cell_type": "code",
   "execution_count": 98,
   "metadata": {},
   "outputs": [
    {
     "data": {
      "text/plain": [
       "count    15992.000000\n",
       "mean     13650.803376\n",
       "std       9270.403225\n",
       "min          0.000000\n",
       "25%       4398.823000\n",
       "50%      14557.110000\n",
       "75%      22923.737500\n",
       "max      25243.550000\n",
       "Name: Earnings_1975, dtype: float64"
      ]
     },
     "execution_count": 98,
     "metadata": {},
     "output_type": "execute_result"
    }
   ],
   "source": [
    "#basic stats for Earnings_1975\n",
    "df75.describe()"
   ]
  },
  {
   "cell_type": "markdown",
   "metadata": {},
   "source": [
    "### Challenge 6 - Cohort Calculations\n",
    "\n",
    "Here is some sample code that may be helpful:\n",
    "\n",
    "```python\n",
    "#Modification of cohort code to send back a tuple of results. \n",
    "#You could do this more manually as well.\n",
    "def cohort(df_in, cohort1, cohort2, cohort3, earningsColumn):\n",
    "    df_in[\"Cohort\"] = (df_in[cohort1]+df_in[cohort2]+df_in[cohort3])\n",
    "    cohortList = df_in[\"Cohort\"].unique()\n",
    "    i = 0\n",
    "    resList = []\n",
    "    while i < cohortList.size:\n",
    "        tmp = df_in[df_in.Cohort == cohortList[i]]\n",
    "        histTmp = thinkstats2.Hist(round(tmp[earningsColumn], -3))\n",
    "        resList.append((histTmp, cohortList[i], tmp[earningsColumn].median()))\n",
    "        i = i + 1\n",
    "    return resList\n",
    "```"
   ]
  },
  {
   "cell_type": "code",
   "execution_count": null,
   "metadata": {},
   "outputs": [],
   "source": []
  }
 ],
 "metadata": {
  "kernelspec": {
   "display_name": "Python 3.9.12 ('base')",
   "language": "python",
   "name": "python3"
  },
  "language_info": {
   "codemirror_mode": {
    "name": "ipython",
    "version": 3
   },
   "file_extension": ".py",
   "mimetype": "text/x-python",
   "name": "python",
   "nbconvert_exporter": "python",
   "pygments_lexer": "ipython3",
   "version": "3.9.12"
  },
  "orig_nbformat": 4,
  "vscode": {
   "interpreter": {
    "hash": "ac84c186c3977d3f3331649749bf53276a5c5befb029be0bc359ac378ed9e33b"
   }
  }
 },
 "nbformat": 4,
 "nbformat_minor": 2
}
